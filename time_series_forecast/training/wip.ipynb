{
 "cells": [
  {
   "cell_type": "code",
   "execution_count": 4,
   "metadata": {},
   "outputs": [
    {
     "ename": "SyntaxError",
     "evalue": "invalid syntax (3879472576.py, line 2)",
     "output_type": "error",
     "traceback": [
      "\u001b[0;36m  Cell \u001b[0;32mIn[4], line 2\u001b[0;36m\u001b[0m\n\u001b[0;31m    import \"../app/forecast/forecast.py\" as forecast\u001b[0m\n\u001b[0m           ^\u001b[0m\n\u001b[0;31mSyntaxError\u001b[0m\u001b[0;31m:\u001b[0m invalid syntax\n"
     ]
    }
   ],
   "source": [
    "import train"
   ]
  },
  {
   "cell_type": "code",
   "execution_count": 3,
   "metadata": {},
   "outputs": [
    {
     "name": "stdout",
     "output_type": "stream",
     "text": [
      " ARIMA(0,0,0)(0,0,0)[1] intercept   : AIC=514.651, Time=0.02 sec\n",
      " ARIMA(1,0,0)(0,0,0)[1] intercept   : AIC=496.205, Time=0.06 sec\n",
      " ARIMA(1,0,1)(0,0,0)[1] intercept   : AIC=498.022, Time=0.08 sec\n",
      " ARIMA(0,0,1)(0,0,0)[1] intercept   : AIC=502.955, Time=0.07 sec\n",
      " ARIMA(0,0,2)(0,0,0)[1] intercept   : AIC=498.346, Time=0.09 sec\n",
      " ARIMA(0,0,3)(0,0,0)[1] intercept   : AIC=499.381, Time=0.13 sec\n",
      " ARIMA(0,0,4)(0,0,0)[1] intercept   : AIC=500.098, Time=0.16 sec\n",
      " ARIMA(2,0,0)(0,0,0)[1] intercept   : AIC=496.916, Time=0.12 sec\n",
      " ARIMA(1,0,2)(0,0,0)[1] intercept   : AIC=499.027, Time=0.13 sec\n",
      " ARIMA(2,0,2)(0,0,0)[1] intercept   : AIC=500.115, Time=0.17 sec\n"
     ]
    },
    {
     "name": "stderr",
     "output_type": "stream",
     "text": [
      "/home/upperbound/.local/lib/python3.9/site-packages/statsmodels/tsa/statespace/sarimax.py:966: UserWarning: Non-stationary starting autoregressive parameters found. Using zeros as starting parameters.\n",
      "  warn('Non-stationary starting autoregressive parameters'\n",
      "/home/upperbound/.local/lib/python3.9/site-packages/statsmodels/tsa/statespace/sarimax.py:978: UserWarning: Non-invertible starting MA parameters found. Using zeros as starting parameters.\n",
      "  warn('Non-invertible starting MA parameters found.'\n"
     ]
    },
    {
     "name": "stdout",
     "output_type": "stream",
     "text": [
      " ARIMA(1,0,3)(0,0,0)[1] intercept   : AIC=500.966, Time=0.26 sec\n",
      " ARIMA(3,0,0)(0,0,0)[1] intercept   : AIC=499.898, Time=0.19 sec\n",
      " ARIMA(0,0,5)(0,0,0)[1] intercept   : AIC=inf, Time=0.42 sec\n",
      " ARIMA(4,0,1)(0,0,0)[1] intercept   : AIC=503.276, Time=0.16 sec\n",
      " ARIMA(2,0,1)(0,0,0)[1] intercept   : AIC=496.571, Time=0.42 sec\n",
      " ARIMA(1,0,4)(0,0,0)[1] intercept   : AIC=inf, Time=0.48 sec\n",
      " ARIMA(5,0,0)(0,0,0)[1] intercept   : AIC=502.145, Time=0.28 sec\n",
      " ARIMA(2,0,3)(0,0,0)[1] intercept   : AIC=503.511, Time=0.40 sec\n",
      " ARIMA(4,0,0)(0,0,0)[1] intercept   : AIC=504.275, Time=0.37 sec\n",
      " ARIMA(3,0,1)(0,0,0)[1] intercept   : AIC=498.516, Time=0.55 sec\n",
      " ARIMA(3,0,2)(0,0,0)[1] intercept   : AIC=500.416, Time=0.59 sec\n",
      "\n",
      "Best model:  ARIMA(1,0,0)(0,0,0)[1] intercept\n",
      "Total fit time: 4.042 seconds\n",
      "4.04s\n"
     ]
    }
   ],
   "source": [
    "df = train.parse_data(\"./response_1700252617876.json\")\n",
    "train.auto_train_model(df, maxiter=5000)"
   ]
  },
  {
   "cell_type": "code",
   "execution_count": null,
   "metadata": {},
   "outputs": [],
   "source": []
  }
 ],
 "metadata": {
  "kernelspec": {
   "display_name": "Python 3",
   "language": "python",
   "name": "python3"
  },
  "language_info": {
   "codemirror_mode": {
    "name": "ipython",
    "version": 3
   },
   "file_extension": ".py",
   "mimetype": "text/x-python",
   "name": "python",
   "nbconvert_exporter": "python",
   "pygments_lexer": "ipython3",
   "version": "3.9.5"
  }
 },
 "nbformat": 4,
 "nbformat_minor": 2
}
